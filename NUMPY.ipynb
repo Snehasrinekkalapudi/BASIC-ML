{
  "nbformat": 4,
  "nbformat_minor": 0,
  "metadata": {
    "colab": {
      "provenance": [],
      "authorship_tag": "ABX9TyPISHwU7sOsozLIPNZX84QS",
      "include_colab_link": true
    },
    "kernelspec": {
      "name": "python3",
      "display_name": "Python 3"
    },
    "language_info": {
      "name": "python"
    }
  },
  "cells": [
    {
      "cell_type": "markdown",
      "metadata": {
        "id": "view-in-github",
        "colab_type": "text"
      },
      "source": [
        "<a href=\"https://colab.research.google.com/github/Snehasrinekkalapudi/BASIC-ML/blob/main/NUMPY.ipynb\" target=\"_parent\"><img src=\"https://colab.research.google.com/assets/colab-badge.svg\" alt=\"Open In Colab\"/></a>"
      ]
    },
    {
      "cell_type": "code",
      "source": [
        "import numpy as np\n"
      ],
      "metadata": {
        "id": "V1qI_YugtLAj"
      },
      "execution_count": 2,
      "outputs": []
    },
    {
      "cell_type": "markdown",
      "source": [
        "#Question 1\n",
        "##Arithmetic Operations"
      ],
      "metadata": {
        "id": "-q8l13jwtdts"
      }
    },
    {
      "cell_type": "code",
      "source": [
        "a = np.array([4,5,6,8])\n",
        "b = np.array([8,9,1,2])\n",
        "print(\"Addition:\",a+b)\n",
        "print(\"Subtraction:\",a-b)\n",
        "print(\"Multiplication:\",a*b)\n",
        "print(\"Division:\",a/b)\n",
        "print(\"Modulo division:\",b%a)\n",
        "print(\"Floor Division:\",a//b)"
      ],
      "metadata": {
        "colab": {
          "base_uri": "https://localhost:8080/"
        },
        "id": "OFxyezk-tdO9",
        "outputId": "d698805c-c20d-4836-94f3-0349b2345aff"
      },
      "execution_count": 6,
      "outputs": [
        {
          "output_type": "stream",
          "name": "stdout",
          "text": [
            "Addition: [12 14  7 10]\n",
            "Subtraction: [-4 -4  5  6]\n",
            "Multiplication: [32 45  6 16]\n",
            "Division: [0.5        0.55555556 6.         4.        ]\n",
            "Modulo division: [0 4 1 2]\n",
            "Floor Division: [0 0 6 4]\n"
          ]
        }
      ]
    },
    {
      "cell_type": "markdown",
      "source": [
        "#Question 2\n",
        "##Mean and Standard Deviation"
      ],
      "metadata": {
        "id": "lVlXvJP-wgsf"
      }
    },
    {
      "cell_type": "code",
      "source": [
        "a = np.array([2,3,4,5])\n",
        "m = np.mean(a)\n",
        "s = np.std(a)\n",
        "print(\"Mean:\",m)\n",
        "print(\"Standard Deviation:\",s)"
      ],
      "metadata": {
        "colab": {
          "base_uri": "https://localhost:8080/"
        },
        "id": "NnMLCKtIwgSr",
        "outputId": "b5ff6915-f878-43ff-ddc2-eb38fe929559"
      },
      "execution_count": 9,
      "outputs": [
        {
          "output_type": "stream",
          "name": "stdout",
          "text": [
            "Mean: 3.5\n",
            "Standard Deviation: 1.118033988749895\n"
          ]
        }
      ]
    },
    {
      "cell_type": "markdown",
      "source": [
        "#Question 3\n",
        "##Array with step size of 5"
      ],
      "metadata": {
        "id": "7j5qMfMNyYDn"
      }
    },
    {
      "cell_type": "code",
      "source": [
        "a = np.arange(10,51,5)\n",
        "print(a)"
      ],
      "metadata": {
        "colab": {
          "base_uri": "https://localhost:8080/"
        },
        "id": "1WwsQYYqyVpH",
        "outputId": "978b2343-a97a-469c-b023-2728548fef0c"
      },
      "execution_count": 10,
      "outputs": [
        {
          "output_type": "stream",
          "name": "stdout",
          "text": [
            "[10 15 20 25 30 35 40 45 50]\n"
          ]
        }
      ]
    },
    {
      "cell_type": "markdown",
      "source": [
        "#Question 4\n",
        "##Reshape array"
      ],
      "metadata": {
        "id": "cuFyRNVBzHcF"
      }
    },
    {
      "cell_type": "code",
      "source": [
        "a=np.arange(10,50,5)\n",
        "r = a.reshape(2,4)\n",
        "print(r)"
      ],
      "metadata": {
        "colab": {
          "base_uri": "https://localhost:8080/"
        },
        "id": "5A9wryUBy7hB",
        "outputId": "4a08c667-3698-45a2-faa7-422e6a2b5798"
      },
      "execution_count": 13,
      "outputs": [
        {
          "output_type": "stream",
          "name": "stdout",
          "text": [
            "[[10 15 20 25]\n",
            " [30 35 40 45]]\n"
          ]
        }
      ]
    },
    {
      "cell_type": "markdown",
      "source": [
        "#Question 5\n",
        "##Sub matrix and Replace values"
      ],
      "metadata": {
        "id": "BgxuYGmvzz3b"
      }
    },
    {
      "cell_type": "code",
      "source": [
        "arr = np.array([[1,2,3],[4,5,6],[7,8,9]])\n",
        "sub = arr[1:,:2]\n",
        "print(\"Sub-matrix:\")\n",
        "print(sub)\n",
        "arr[arr>4] = 0\n",
        "print(\"Rearranged array\")\n",
        "print(arr)"
      ],
      "metadata": {
        "colab": {
          "base_uri": "https://localhost:8080/"
        },
        "id": "DYAPHQM4zzh2",
        "outputId": "45ac845e-7dce-41f9-ef38-53daf3b2ec02"
      },
      "execution_count": 16,
      "outputs": [
        {
          "output_type": "stream",
          "name": "stdout",
          "text": [
            "Sub-matrix:\n",
            "[[4 5]\n",
            " [7 8]]\n",
            "Rearranged array\n",
            "[[1 2 3]\n",
            " [4 0 0]\n",
            " [0 0 0]]\n"
          ]
        }
      ]
    },
    {
      "cell_type": "markdown",
      "source": [
        "#Question 6\n",
        "##1D arrays"
      ],
      "metadata": {
        "id": "_-gmu3xd1rQX"
      }
    },
    {
      "cell_type": "code",
      "source": [
        "a=np.array([1,2,3])\n",
        "b=np.array([4,5,6])\n",
        "print(\"Addition:\",np.add(a,b))\n",
        "print(\"Multiplication:\",np.multiply(a,b))\n",
        "print(\"Division:\",np.divide(a,b))"
      ],
      "metadata": {
        "colab": {
          "base_uri": "https://localhost:8080/"
        },
        "id": "8pcJkfr01qm2",
        "outputId": "bd5a781e-34e7-4403-9cb6-8766b058dae5"
      },
      "execution_count": 24,
      "outputs": [
        {
          "output_type": "stream",
          "name": "stdout",
          "text": [
            "Addition: [5 7 9]\n",
            "Multiplication: [ 4 10 18]\n",
            "Division: [0.25 0.4  0.5 ]\n"
          ]
        }
      ]
    },
    {
      "cell_type": "markdown",
      "source": [
        "#Question 7\n",
        "###Mean of each column\n",
        "###Maximum value of array\n",
        "###Sum of all *elements*"
      ],
      "metadata": {
        "id": "KRsDL5fM3PO6"
      }
    },
    {
      "cell_type": "code",
      "source": [
        "a=np.random.rand(4,4)\n",
        "print(\"Mean of each column:\")\n",
        "print(np.mean(a,axis=0))\n",
        "print(\"Maximum value of array:\")\n",
        "print(np.max(a))\n",
        "print(\"Sum of all elements:\")\n",
        "print(np.sum(a))"
      ],
      "metadata": {
        "colab": {
          "base_uri": "https://localhost:8080/"
        },
        "id": "Lb6Ioifs3OgB",
        "outputId": "3ea1ff2d-76e7-41cc-84dd-0e9ff1f152b0"
      },
      "execution_count": 25,
      "outputs": [
        {
          "output_type": "stream",
          "name": "stdout",
          "text": [
            "Mean of each column:\n",
            "[0.44599972 0.34329807 0.50466146 0.67479029]\n",
            "Maximum value of array:\n",
            "0.99729110250434\n",
            "Sum of all elements:\n",
            "7.8749981106036415\n"
          ]
        }
      ]
    },
    {
      "cell_type": "markdown",
      "source": [
        "#Question 8\n",
        "###Modify the array by adding 10 and multiply by 2"
      ],
      "metadata": {
        "id": "faT-Psic5Gbl"
      }
    },
    {
      "cell_type": "code",
      "source": [
        "arr = np.array([1,2,3,4])\n",
        "arr=(arr+10)*2\n",
        "print(arr)"
      ],
      "metadata": {
        "colab": {
          "base_uri": "https://localhost:8080/"
        },
        "id": "XSYVorXh5GJc",
        "outputId": "9b76a237-69e4-4490-f6d0-af371266591c"
      },
      "execution_count": 23,
      "outputs": [
        {
          "output_type": "stream",
          "name": "stdout",
          "text": [
            "[22 24 26 28]\n"
          ]
        }
      ]
    },
    {
      "cell_type": "markdown",
      "source": [
        "#Question 9\n",
        "###Advanced slicing on 3D array"
      ],
      "metadata": {
        "id": "T0y5DMsI6FY4"
      }
    },
    {
      "cell_type": "code",
      "source": [
        "a=np.random.randint(1,100,size=(3,4,5))\n",
        "print(a)\n",
        "print(\"Second layer:\",a[1])\n",
        "print(\"First two rows and last three columns:\",a[:,:2,-3:])\n",
        "a[a%3==0]=-1\n",
        "print(\"Modified array:\",a)"
      ],
      "metadata": {
        "colab": {
          "base_uri": "https://localhost:8080/"
        },
        "id": "xUb1Frmv6E6c",
        "outputId": "6742c7ee-a0f2-4762-caff-63f4554def13"
      },
      "execution_count": 30,
      "outputs": [
        {
          "output_type": "stream",
          "name": "stdout",
          "text": [
            "[[[85 58 86 80 82]\n",
            "  [19  7 39 79 42]\n",
            "  [ 8 58 45 52 78]\n",
            "  [47 19 15 91  7]]\n",
            "\n",
            " [[29 81 36  1 72]\n",
            "  [59 17 80 35 87]\n",
            "  [40 63 27 27 91]\n",
            "  [76 79 75 81 88]]\n",
            "\n",
            " [[86 71 45 35 40]\n",
            "  [59 90 85 34 40]\n",
            "  [ 3  3 91 98 43]\n",
            "  [72 96 57 69 53]]]\n",
            "Second layer: [[29 81 36  1 72]\n",
            " [59 17 80 35 87]\n",
            " [40 63 27 27 91]\n",
            " [76 79 75 81 88]]\n",
            "First two rows and last three columns: [[[86 80 82]\n",
            "  [39 79 42]]\n",
            "\n",
            " [[36  1 72]\n",
            "  [80 35 87]]\n",
            "\n",
            " [[45 35 40]\n",
            "  [85 34 40]]]\n",
            "Modified array: [[[85 58 86 80 82]\n",
            "  [19  7 -1 79 -1]\n",
            "  [ 8 58 -1 52 -1]\n",
            "  [47 19 -1 91  7]]\n",
            "\n",
            " [[29 -1 -1  1 -1]\n",
            "  [59 17 80 35 -1]\n",
            "  [40 -1 -1 -1 91]\n",
            "  [76 79 -1 -1 88]]\n",
            "\n",
            " [[86 71 -1 35 40]\n",
            "  [59 -1 85 34 40]\n",
            "  [-1 -1 91 98 43]\n",
            "  [-1 -1 -1 -1 53]]]\n"
          ]
        }
      ]
    },
    {
      "cell_type": "markdown",
      "source": [
        "#Question 10\n",
        "###Perform broadcasting and advanced operations"
      ],
      "metadata": {
        "id": "CDDe_3gX9dDb"
      }
    },
    {
      "cell_type": "code",
      "source": [
        "a=np.random.randint(1,20,size=(3,3))\n",
        "print(a)\n",
        "r=np.mean(a,axis=1,keepdims=True)\n",
        "n=a-r\n",
        "print(\"Normalization:\")\n",
        "print(n)\n",
        "s=a**2\n",
        "print(\"Squared array:\")\n",
        "print(s)\n",
        "t=np.argsort(a.ravel())[-3:]\n",
        "print(\"Indices of top three vaues:\")\n",
        "print(t)\n"
      ],
      "metadata": {
        "colab": {
          "base_uri": "https://localhost:8080/"
        },
        "id": "LMdzVHnd9VFx",
        "outputId": "d426dbc0-5008-43a2-b235-ffa94e6b953c"
      },
      "execution_count": 38,
      "outputs": [
        {
          "output_type": "stream",
          "name": "stdout",
          "text": [
            "[[ 7  6  2]\n",
            " [19  1 10]\n",
            " [14 18 12]]\n",
            "Normalization:\n",
            "[[ 2.          1.         -3.        ]\n",
            " [ 9.         -9.          0.        ]\n",
            " [-0.66666667  3.33333333 -2.66666667]]\n",
            "Squared array:\n",
            "[[ 49  36   4]\n",
            " [361   1 100]\n",
            " [196 324 144]]\n",
            "Indices of top three vaues:\n",
            "[6 7 3]\n"
          ]
        }
      ]
    }
  ]
}